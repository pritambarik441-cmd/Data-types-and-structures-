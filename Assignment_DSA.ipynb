{
  "nbformat": 4,
  "nbformat_minor": 0,
  "metadata": {
    "colab": {
      "provenance": []
    },
    "kernelspec": {
      "name": "python3",
      "display_name": "Python 3"
    },
    "language_info": {
      "name": "python"
    }
  },
  "cells": [
    {
      "cell_type": "code",
      "execution_count": null,
      "metadata": {
        "id": "eGtAntwgj3S3"
      },
      "outputs": [],
      "source": []
    },
    {
      "cell_type": "markdown",
      "source": [
        "# Theory Questions\n",
        "\n",
        "\n",
        "1. What are the data structures and why are they important ?\n",
        "\n",
        "Ans.  Data structures are specialized formats used to organize, manage, and store data efficiently in a computer so that it can be accessed and modified effectively.\n",
        "\n",
        "They define the relationship between the data and the operations that can be performed on it.\n",
        "\n",
        "2. Explain the difference between mutable and immutable data types with examples\n",
        "\n",
        "Ans.  The terms mutable and immutable refer to whether or not a data object can be changed after it is created.\n",
        "\n",
        "⸻\n",
        "\n",
        "Mutable Data Types\n",
        "\t•\tDefinition: Objects that can be changed after creation.\n",
        "\t•\tYou can: Add, remove, or change elements without changing the object’s identity.\n",
        "\n",
        "Examples:\n",
        "\t•\tlist\n",
        "\t•\tdict (dictionary)\n",
        "\t•\tset\n",
        "\n",
        " Immutable Data Types\n",
        "\t•\tDefinition: Objects that cannot be changed once created.\n",
        "\t•\tYou can’t: Modify the contents directly; any change creates a new object.\n",
        "\n",
        "Examples:\n",
        "\t•\tint\n",
        "\t•\tfloat\n",
        "\t•\tstr (string)\n",
        "\t•\ttuple\n",
        "\t•\tbool\n",
        "\n",
        "\n",
        "3. What are the main difference btw lists and tuples in python ?\n",
        "\n",
        "Ans. A list is like a container where you can change, add, or remove items.\n",
        "\t•\tWritten with square brackets: [ ]\n",
        "\n",
        "Example: fruits = [\"apple\", \"banana\", \"mango\"]\n",
        "fruits.append(\"orange\")  # You can add more\n",
        "print(fruits)  # ['apple', 'banana', 'mango', 'orange']\n",
        "\n",
        " A tuple is a collection that cannot be changed after it’s created.\n",
        "\t•\tWritten using round brackets: ( )\n",
        "\n",
        "Example: colors = (\"red\", \"green\", \"blue\")\n",
        "# colors[0] = \"yellow\" → This will give an error\n",
        "\n",
        "4. Describe how dictionaries store data ?\n",
        "\n",
        "Ans . A dictionary in Python stores data as key-value pairs.\n",
        "It’s like a real dictionary:\n",
        "\t . You llok up a word (Key)\n",
        "\t . And get its definition ( Value)\n",
        "\n",
        "   Python dictionaries use a data structure called a hash table:\n",
        "\t1.\tHashing:\n",
        "Each key is passed through a hash function, which turns it into a unique number (called a hash).\n",
        "\t2.\tIndexing:\n",
        "That hash number decides where to store the value in memory.\n",
        "\t3.\tFast Lookup:\n",
        "When you ask for a key like student[\"name\"], Python uses the hash to jump straight to the value — no need to search linearly.\n",
        "\n",
        "5. Why might you use a set instead of a list in python\n",
        "\n",
        "Ans. A set removes duplicate values automatically and is faster when checking if something exists.\n",
        "Use it when:\n",
        "\t •\tYou want unique items only\n",
        "\t •\tYou want to check membership quickly (like \"apple\" in fruits)\n",
        "\n",
        "  6. What is a string in Python and how is it different from a list?\n",
        "\n",
        "Ans . A string is a sequence of characters (like \"hello\").\n",
        "      A list is a collection that can hold different types of data.\n",
        "\t •\tStrings are immutable (can’t change characters directly)\n",
        "\t •\tLists are mutable  (you can change elements)\n",
        "\n",
        "   7. How do tuples ensure data integrity in Python?\n",
        "\n",
        "Ans . Tuples are immutable, which means once created, they cant be changed.\n",
        "      This protects the data from being modified by mistake.\n",
        "\n",
        "  8. What is a hash table and how does it relate to dictionaries in Python?\n",
        "\n",
        "Ans.  A hash table is a way to store key-value pairs using a hash function to find data fast.\n",
        "      Python dictionaries use hash tables to make key lookups very fast.\n",
        "\n",
        "  9.     Can lists contain different data types in Python?\n",
        "\n",
        "Ans.    Yes, a list can contain any mix of data types.\n",
        "         Example: my_list = [1, \"hello\", 3.14, True]\n",
        "\n",
        "  10.  Explain why strings are immutable in Python\n",
        "  \n",
        "  Ans.  Strings are immutable to:\n",
        "\t     •\tSave memory\n",
        "\t     •\tMake them safe to use in loops and functions\n",
        "\t     •\tAllow them to be used as dictionary keys\n",
        "\n",
        "  11. What advantages do dictionaries offer over lists for certain tasks?\n",
        "\n",
        "  Ans.  \t•\tFaster data lookup using keys\n",
        "        \t•\tBetter organization of related data\n",
        "\t        •\tMore readable code when using named keys\n",
        "\n",
        "          Example : person = {\"name\": \"Tom\", \"age\": 30}  # Easier than using a list like [\"Tom\", 30]\n",
        "\n",
        "  12. Describe a scenario where using a tuple would be preferable over a list\n",
        "\n",
        "  Ans. When you want to store fixed data that should not change.\n",
        "       Example:\n",
        "                Coordinates (x, y) → (10, 20)\n",
        "                You dont want the coordinates to change by accident.\n",
        "\n",
        "  13. How do sets handle duplicate values in Python?\n",
        "\n",
        "  Ans. Sets automatically remove duplicate items.\n",
        "        \n",
        "        Example : set1 = {1, 2, 2, 3}\n",
        "                  print(set1)  # Output: {1, 2, 3}\n",
        "\n",
        "  14. How does the in keyword work differently for lists and dictionaries?\n",
        "\n",
        "  Ans. \t•\tIn a list, in checks for a value\n",
        "\n",
        "           3 in [1, 2, 3] → True\n",
        "\n",
        "        •\tIn a dictionary, in checks for a key\n",
        "\n",
        "           \"name\" in {\"name\": \"John\"} → True\n",
        "\n",
        "  15. Can you modify the elements of a tuple? Explain why or why not\n",
        "\n",
        "  Ans. No, we cannot change elements in a tuple.\n",
        "       Tuples are immutable — theyre meant to be unchangeable for safety and speed.\n",
        "\n",
        "  16. What is a nested dictionary and give an example of its use case\n",
        "\n",
        "  Ans. A nested dictionary is a dictionary inside another dictionary.\n",
        "        Used for storing complex data, like info about users.   \n",
        "\n",
        "        Example : users = {\n",
        "                 \"user1\": {\"name\": \"Alice\", \"age\": 25},\n",
        "                 \"user2\": {\"name\": \"Bob\", \"age\": 30}\n",
        "                }\n",
        "\n",
        " 17. Describe the time complexity of accessing elements in a dictionary\n",
        "\n",
        " Ans. Accessing an element by key in a dictionary is O(1) (very fast),\n",
        "       thanks to hashing.\n",
        "\n",
        "  18. In what situations are lists preferred over dictionaries?\n",
        "\n",
        "  Ans.  Use lists when:\n",
        "\t       •\tOrder matters\n",
        "\t       •\tYou just need a collection of items\n",
        "\t       •\tYou dont need to label data\n",
        "\n",
        "  19. Why are dictionaries considered unordered and how does that affect data retrieval?\n",
        "\n",
        "  Ans. In older Python versions (before 3.7), dictionaries did not keep order.\n",
        "       Now they do preserve insertion order, but still:\n",
        "\t    •\tYou can’t access by position (like index 0)\n",
        "\t    •\tYou access items using keys\n",
        "\n",
        "  20. Explain the difference between a list and a dictionary in terms of data retrieval\n",
        "\n",
        "  Ans.  In a list, you get data by position (index)\n",
        "           Example: my_list[0]\n",
        "\n",
        "\t      •\tIn a dictionary, you get data by key\n",
        "           Example: my_dict[\"name\"]\n"
      ],
      "metadata": {
        "id": "CCnZ_4gOkJX3"
      }
    },
    {
      "cell_type": "markdown",
      "source": [
        "# Practical Questions\n",
        "\n"
      ],
      "metadata": {
        "id": "bbi_KVQSs_MK"
      }
    },
    {
      "cell_type": "markdown",
      "source": [
        "1. Write a code to create a string with your name and print it ?"
      ],
      "metadata": {
        "id": "Xmc_eJ6duca3"
      }
    },
    {
      "cell_type": "code",
      "source": [
        "name = \"Pritam\"\n",
        "print(name)"
      ],
      "metadata": {
        "colab": {
          "base_uri": "https://localhost:8080/"
        },
        "id": "TkaGJxRcum0D",
        "outputId": "2cbd35ce-e47f-4f2b-fada-8a04a004af0d"
      },
      "execution_count": 1,
      "outputs": [
        {
          "output_type": "stream",
          "name": "stdout",
          "text": [
            "Pritam\n"
          ]
        }
      ]
    },
    {
      "cell_type": "markdown",
      "source": [
        "2. Write a code to find the length of the string 'Hello World\""
      ],
      "metadata": {
        "id": "6vW9D1AausnC"
      }
    },
    {
      "cell_type": "code",
      "source": [
        "text = \"Hello World\"\n",
        "print(len(text))"
      ],
      "metadata": {
        "colab": {
          "base_uri": "https://localhost:8080/"
        },
        "id": "B7mOKttKuxzp",
        "outputId": "8c0711d4-cfaf-445a-f9c6-e9b48bfe51e2"
      },
      "execution_count": 2,
      "outputs": [
        {
          "output_type": "stream",
          "name": "stdout",
          "text": [
            "11\n"
          ]
        }
      ]
    },
    {
      "cell_type": "markdown",
      "source": [
        "3. Write a code to slice the first 3 characters frm the strng 'Python programming'"
      ],
      "metadata": {
        "id": "b7UFzfyyu2Ev"
      }
    },
    {
      "cell_type": "code",
      "source": [
        "text = \"Python programming\"\n",
        "print(text[:3])"
      ],
      "metadata": {
        "colab": {
          "base_uri": "https://localhost:8080/"
        },
        "id": "vaUo2voKu5vr",
        "outputId": "45cce608-e65b-466e-bf73-a6af7bdbc83b"
      },
      "execution_count": 3,
      "outputs": [
        {
          "output_type": "stream",
          "name": "stdout",
          "text": [
            "Pyt\n"
          ]
        }
      ]
    },
    {
      "cell_type": "markdown",
      "source": [
        "4. Write a code to convert the string 'hello' to uppercase ?"
      ],
      "metadata": {
        "id": "w-hCw_5zvBUy"
      }
    },
    {
      "cell_type": "code",
      "source": [
        "text = \"hello\"\n",
        "print(text.upper())"
      ],
      "metadata": {
        "colab": {
          "base_uri": "https://localhost:8080/"
        },
        "id": "qSofdZqSvNCJ",
        "outputId": "b41667f9-adde-45f6-d9c5-d7495ecd5a6b"
      },
      "execution_count": 4,
      "outputs": [
        {
          "output_type": "stream",
          "name": "stdout",
          "text": [
            "HELLO\n"
          ]
        }
      ]
    },
    {
      "cell_type": "markdown",
      "source": [
        "5. write a code to replace the word 'apple' with orange in the string ' i like apple'"
      ],
      "metadata": {
        "id": "erX_brv3vTuU"
      }
    },
    {
      "cell_type": "code",
      "source": [
        "text = \"i like apple\"\n",
        "new_text = text.replace(\"apple\", \"orange\")\n",
        "print(new_text)"
      ],
      "metadata": {
        "colab": {
          "base_uri": "https://localhost:8080/"
        },
        "id": "a1Y30MCjvYUx",
        "outputId": "544c5ec8-052a-4550-b58d-fdec51e42267"
      },
      "execution_count": 5,
      "outputs": [
        {
          "output_type": "stream",
          "name": "stdout",
          "text": [
            "i like orange\n"
          ]
        }
      ]
    },
    {
      "cell_type": "markdown",
      "source": [
        "6. Write a code to create a listwith numbers 1 to 5 and print it"
      ],
      "metadata": {
        "id": "za2pCC8LvfUd"
      }
    },
    {
      "cell_type": "code",
      "source": [
        "numbers = [1, 2, 3, 4, 5]\n",
        "print(numbers)"
      ],
      "metadata": {
        "colab": {
          "base_uri": "https://localhost:8080/"
        },
        "id": "9veNYNyBvjzs",
        "outputId": "84a274a0-68a4-4f73-e217-e6235300f90f"
      },
      "execution_count": 6,
      "outputs": [
        {
          "output_type": "stream",
          "name": "stdout",
          "text": [
            "[1, 2, 3, 4, 5]\n"
          ]
        }
      ]
    },
    {
      "cell_type": "markdown",
      "source": [
        "7. write a code to append the number 10 to the list [ 1,2,3,4]"
      ],
      "metadata": {
        "id": "hB5rknFivmHe"
      }
    },
    {
      "cell_type": "code",
      "source": [
        "my_list = [1, 2, 3, 4]\n",
        "my_list.append(10)\n",
        "print(my_list)"
      ],
      "metadata": {
        "colab": {
          "base_uri": "https://localhost:8080/"
        },
        "id": "o1y8JIwSvqcQ",
        "outputId": "526a112c-5f22-4359-edf6-83f50b1d1f6e"
      },
      "execution_count": 7,
      "outputs": [
        {
          "output_type": "stream",
          "name": "stdout",
          "text": [
            "[1, 2, 3, 4, 10]\n"
          ]
        }
      ]
    },
    {
      "cell_type": "markdown",
      "source": [
        "8. Write a code to remove the number 3 from the list [ 1,2,3,4,5]"
      ],
      "metadata": {
        "id": "wSrZMf0DvwEm"
      }
    },
    {
      "cell_type": "code",
      "source": [
        "my_list = [1, 2, 3, 4, 5]\n",
        "my_list.remove(3)\n",
        "print(my_list)"
      ],
      "metadata": {
        "colab": {
          "base_uri": "https://localhost:8080/"
        },
        "id": "_4CChGsbvzVc",
        "outputId": "af6ea385-cea2-4c8a-e039-20466d46a794"
      },
      "execution_count": 8,
      "outputs": [
        {
          "output_type": "stream",
          "name": "stdout",
          "text": [
            "[1, 2, 4, 5]\n"
          ]
        }
      ]
    },
    {
      "cell_type": "markdown",
      "source": [
        "9. write a code to access the second element in the list [ 'a', 'b' , 'c' , 'd' ]"
      ],
      "metadata": {
        "id": "8Aa7bKMvv539"
      }
    },
    {
      "cell_type": "code",
      "source": [
        "letters = ['a', 'b', 'c', 'd']\n",
        "print(letters[1])"
      ],
      "metadata": {
        "colab": {
          "base_uri": "https://localhost:8080/"
        },
        "id": "U7OD5I8Zv9N4",
        "outputId": "e38e4838-f4d8-4f5b-c35a-2a488575f03f"
      },
      "execution_count": 9,
      "outputs": [
        {
          "output_type": "stream",
          "name": "stdout",
          "text": [
            "b\n"
          ]
        }
      ]
    },
    {
      "cell_type": "markdown",
      "source": [
        "10. write a code to reverse the list [ 10, 20,30,40,50]"
      ],
      "metadata": {
        "id": "BsljXq5ZwL-U"
      }
    },
    {
      "cell_type": "code",
      "source": [
        "nums = [10, 20, 30, 40, 50]\n",
        "nums.reverse()\n",
        "print(nums)"
      ],
      "metadata": {
        "colab": {
          "base_uri": "https://localhost:8080/"
        },
        "id": "NYRz3hNewQrI",
        "outputId": "a4d713dd-652c-4f44-802f-f17b2af74ab6"
      },
      "execution_count": 11,
      "outputs": [
        {
          "output_type": "stream",
          "name": "stdout",
          "text": [
            "[50, 40, 30, 20, 10]\n"
          ]
        }
      ]
    }
  ]
}